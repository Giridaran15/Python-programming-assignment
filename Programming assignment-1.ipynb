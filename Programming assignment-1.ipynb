{
 "cells": [
  {
   "cell_type": "code",
   "execution_count": 1,
   "id": "bdf9d2f6",
   "metadata": {},
   "outputs": [],
   "source": [
    "1.  #python program to print Hello python"
   ]
  },
  {
   "cell_type": "code",
   "execution_count": 4,
   "id": "3e6de6ea",
   "metadata": {},
   "outputs": [
    {
     "name": "stdout",
     "output_type": "stream",
     "text": [
      "Hello Python\n"
     ]
    }
   ],
   "source": [
    "print(\"Hello Python\")"
   ]
  },
  {
   "cell_type": "code",
   "execution_count": 6,
   "id": "0848e9d7",
   "metadata": {},
   "outputs": [],
   "source": [
    "#2.  program for arithmetic operations addition and division"
   ]
  },
  {
   "cell_type": "code",
   "execution_count": 20,
   "id": "4c00c773",
   "metadata": {},
   "outputs": [],
   "source": [
    "def addition(*args):\n",
    "    a=0\n",
    "    for i in args:\n",
    "        a += i\n",
    "    return a\n",
    "        "
   ]
  },
  {
   "cell_type": "code",
   "execution_count": 21,
   "id": "85d1ec89",
   "metadata": {},
   "outputs": [
    {
     "data": {
      "text/plain": [
       "36"
      ]
     },
     "execution_count": 21,
     "metadata": {},
     "output_type": "execute_result"
    }
   ],
   "source": [
    "addition(1,2,3,4,5,6,7,8)"
   ]
  },
  {
   "cell_type": "code",
   "execution_count": 3,
   "id": "1bbdfcaa",
   "metadata": {},
   "outputs": [],
   "source": [
    "def division(a,b):\n",
    "    if b == 0:\n",
    "        print (\"cannot divide the given number by 0\")\n",
    "    else :\n",
    "        c = a/b \n",
    "        return c"
   ]
  },
  {
   "cell_type": "code",
   "execution_count": 4,
   "id": "35ed2518",
   "metadata": {},
   "outputs": [
    {
     "data": {
      "text/plain": [
       "2.0"
      ]
     },
     "execution_count": 4,
     "metadata": {},
     "output_type": "execute_result"
    }
   ],
   "source": [
    "division(6,3)"
   ]
  },
  {
   "cell_type": "code",
   "execution_count": 27,
   "id": "d934cf3b",
   "metadata": {},
   "outputs": [
    {
     "name": "stdout",
     "output_type": "stream",
     "text": [
      "cannot divide the given number by 0\n"
     ]
    }
   ],
   "source": [
    "division(3,0)"
   ]
  },
  {
   "cell_type": "code",
   "execution_count": 28,
   "id": "1dfc9c72",
   "metadata": {},
   "outputs": [],
   "source": [
    "#3.   program to find area of triangle"
   ]
  },
  {
   "cell_type": "code",
   "execution_count": 6,
   "id": "b2f3dc0b",
   "metadata": {},
   "outputs": [
    {
     "name": "stdout",
     "output_type": "stream",
     "text": [
      "enter the value of base of triangle20\n",
      "enter the value of height of triangle35\n",
      "350.0\n"
     ]
    }
   ],
   "source": [
    "base =float (input(\"enter the value of base of triangle\"))\n",
    "height =float (input(\"enter the value of height of triangle\"))\n",
    "area = 0.5*base*height\n",
    "print(area)"
   ]
  },
  {
   "cell_type": "code",
   "execution_count": 7,
   "id": "fefc4dee",
   "metadata": {},
   "outputs": [],
   "source": [
    "#4.  Program to swap two variables"
   ]
  },
  {
   "cell_type": "code",
   "execution_count": 9,
   "id": "e9c2ed9e",
   "metadata": {},
   "outputs": [
    {
     "name": "stdout",
     "output_type": "stream",
     "text": [
      "3 5\n"
     ]
    }
   ],
   "source": [
    "a = 5\n",
    "b = 3\n",
    "temp = a \n",
    "a = b \n",
    "b = temp\n",
    "print(a,b)"
   ]
  },
  {
   "cell_type": "code",
   "execution_count": 10,
   "id": "b1a99291",
   "metadata": {},
   "outputs": [],
   "source": [
    "#5.   Program to generate random number"
   ]
  },
  {
   "cell_type": "code",
   "execution_count": 12,
   "id": "696c60dd",
   "metadata": {},
   "outputs": [
    {
     "name": "stdout",
     "output_type": "stream",
     "text": [
      "23\n"
     ]
    }
   ],
   "source": [
    "import random\n",
    "a= random.randint(0,100)\n",
    "print(a)"
   ]
  },
  {
   "cell_type": "code",
   "execution_count": 13,
   "id": "a4243c9a",
   "metadata": {},
   "outputs": [],
   "source": [
    "#to generate a set of random numbers"
   ]
  },
  {
   "cell_type": "code",
   "execution_count": 17,
   "id": "1ffc3957",
   "metadata": {},
   "outputs": [
    {
     "name": "stdout",
     "output_type": "stream",
     "text": [
      "give the number of random nos to generate5\n",
      "94\n",
      "88\n",
      "60\n",
      "61\n",
      "24\n"
     ]
    }
   ],
   "source": [
    "a= int(input(\"give the number of random nos to generate\"))\n",
    "for i in range(a) :\n",
    "    b= random.randint(0,100)\n",
    "    print(b)"
   ]
  },
  {
   "cell_type": "code",
   "execution_count": null,
   "id": "fe5da9f0",
   "metadata": {},
   "outputs": [],
   "source": []
  }
 ],
 "metadata": {
  "kernelspec": {
   "display_name": "Python 3 (ipykernel)",
   "language": "python",
   "name": "python3"
  },
  "language_info": {
   "codemirror_mode": {
    "name": "ipython",
    "version": 3
   },
   "file_extension": ".py",
   "mimetype": "text/x-python",
   "name": "python",
   "nbconvert_exporter": "python",
   "pygments_lexer": "ipython3",
   "version": "3.9.7"
  }
 },
 "nbformat": 4,
 "nbformat_minor": 5
}
