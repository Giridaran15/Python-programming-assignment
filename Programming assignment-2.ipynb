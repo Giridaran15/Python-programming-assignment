{
 "cells": [
  {
   "cell_type": "code",
   "execution_count": 1,
   "id": "349f92c8",
   "metadata": {},
   "outputs": [],
   "source": [
    "#1.  program to convert kilometer to miles"
   ]
  },
  {
   "cell_type": "code",
   "execution_count": 3,
   "id": "f80fca2f",
   "metadata": {},
   "outputs": [
    {
     "name": "stdout",
     "output_type": "stream",
     "text": [
      "enter the length value in kilometers56\n",
      "34.80422622747048\n"
     ]
    }
   ],
   "source": [
    "length_km = float(input(\"enter the length value in kilometers\"))\n",
    "length_miles = length_km/1.609\n",
    "print(length_miles)"
   ]
  },
  {
   "cell_type": "code",
   "execution_count": 4,
   "id": "7eb3ba82",
   "metadata": {},
   "outputs": [],
   "source": [
    "#2. program to convert celcius to farenheit"
   ]
  },
  {
   "cell_type": "code",
   "execution_count": 9,
   "id": "22f10a1b",
   "metadata": {},
   "outputs": [
    {
     "name": "stdout",
     "output_type": "stream",
     "text": [
      "enter the temperature in celcius26\n",
      "78.80000000000001\n"
     ]
    }
   ],
   "source": [
    "temp_c = float(input(\"enter the temperature in celcius\"))\n",
    "temp_f = (temp_c *(9/5))+32.0\n",
    "print(temp_f)"
   ]
  },
  {
   "cell_type": "code",
   "execution_count": 10,
   "id": "4a38dc6c",
   "metadata": {},
   "outputs": [],
   "source": [
    "#3. program to display calendar"
   ]
  },
  {
   "cell_type": "code",
   "execution_count": 12,
   "id": "d667dcdb",
   "metadata": {},
   "outputs": [
    {
     "name": "stdout",
     "output_type": "stream",
     "text": [
      "enter the month:2\n",
      "enter thr year:2000\n",
      "   February 2000\n",
      "Mo Tu We Th Fr Sa Su\n",
      "    1  2  3  4  5  6\n",
      " 7  8  9 10 11 12 13\n",
      "14 15 16 17 18 19 20\n",
      "21 22 23 24 25 26 27\n",
      "28 29\n",
      "\n"
     ]
    }
   ],
   "source": [
    "import calendar\n",
    "month = int(input(\"enter the month:\"))\n",
    "year = int(input(\"enter thr year:\"))\n",
    "print(calendar.month(year, month))"
   ]
  },
  {
   "cell_type": "code",
   "execution_count": 13,
   "id": "0256c273",
   "metadata": {},
   "outputs": [],
   "source": [
    "#4. program to solvve quadratic equation"
   ]
  },
  {
   "cell_type": "code",
   "execution_count": 3,
   "id": "d22aa47d",
   "metadata": {},
   "outputs": [
    {
     "name": "stdout",
     "output_type": "stream",
     "text": [
      "enter the variable a of the eqn:4\n",
      "enter the variable b of the eqn:5\n",
      "enter the variable c of the eqn:6\n",
      "the roots of the eqn are : (-0.625+1.0532687216470449j) (-0.625-1.0532687216470449j)\n"
     ]
    }
   ],
   "source": [
    "import cmath\n",
    "a = float(input(\"enter the variable a of the eqn:\"))\n",
    "b = float(input(\"enter the variable b of the eqn:\"))\n",
    "c = float(input(\"enter the variable c of the eqn:\"))\n",
    "d= (b**2-(4*a*c))\n",
    "\n",
    "root1 = (-b+cmath.sqrt(d))/(2*a)\n",
    "root2 = (-b-cmath.sqrt(d))/(2*a)\n",
    "print(\"the roots of the eqn are :\", root1 , root2)"
   ]
  },
  {
   "cell_type": "code",
   "execution_count": 4,
   "id": "fbf5e504",
   "metadata": {},
   "outputs": [],
   "source": [
    "#5. program to swap without temp variable"
   ]
  },
  {
   "cell_type": "code",
   "execution_count": 6,
   "id": "07500d34",
   "metadata": {},
   "outputs": [
    {
     "name": "stdout",
     "output_type": "stream",
     "text": [
      "4.0 12.0\n"
     ]
    }
   ],
   "source": [
    "a = 12\n",
    "b = 4\n",
    "c = a*b\n",
    "a = c/a\n",
    "b = c/a\n",
    "print(a,b)"
   ]
  },
  {
   "cell_type": "code",
   "execution_count": null,
   "id": "1a6a8fc7",
   "metadata": {},
   "outputs": [],
   "source": []
  }
 ],
 "metadata": {
  "kernelspec": {
   "display_name": "Python 3 (ipykernel)",
   "language": "python",
   "name": "python3"
  },
  "language_info": {
   "codemirror_mode": {
    "name": "ipython",
    "version": 3
   },
   "file_extension": ".py",
   "mimetype": "text/x-python",
   "name": "python",
   "nbconvert_exporter": "python",
   "pygments_lexer": "ipython3",
   "version": "3.9.7"
  }
 },
 "nbformat": 4,
 "nbformat_minor": 5
}
