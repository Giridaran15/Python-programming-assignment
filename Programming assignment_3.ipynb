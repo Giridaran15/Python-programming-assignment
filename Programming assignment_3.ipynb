{
 "cells": [
  {
   "cell_type": "code",
   "execution_count": 1,
   "id": "858de816",
   "metadata": {},
   "outputs": [],
   "source": [
    "#1. Program to check a number is positive , negative or zero"
   ]
  },
  {
   "cell_type": "code",
   "execution_count": 4,
   "id": "5817e696",
   "metadata": {},
   "outputs": [
    {
     "name": "stdout",
     "output_type": "stream",
     "text": [
      "enter a numbersfdf\n",
      "Enter a valid datatype\n"
     ]
    }
   ],
   "source": [
    "a = input(\"enter a number\")\n",
    "if type(a) == int:\n",
    "    if a > 0 :\n",
    "        print(\"The given number is positive\")\n",
    "    elif a < 0 :\n",
    "        print(\"The given number is negative\")\n",
    "    elif a == 0 :\n",
    "        print(\"The given number is zero\")\n",
    "else :\n",
    "    print(\"Enter a valid datatype\")\n",
    "        "
   ]
  },
  {
   "cell_type": "code",
   "execution_count": null,
   "id": "823f84c7",
   "metadata": {},
   "outputs": [],
   "source": [
    "#2. program to check odd or even"
   ]
  },
  {
   "cell_type": "code",
   "execution_count": 3,
   "id": "fd886d4c",
   "metadata": {},
   "outputs": [
    {
     "name": "stdout",
     "output_type": "stream",
     "text": [
      "enter a number25\n",
      "The entered number is odd\n"
     ]
    }
   ],
   "source": [
    "a = int(input(\"enter a number\"))\n",
    "if type(a) == int :\n",
    "    if a%2 == 0 :\n",
    "        print(\"The entered number is even\")\n",
    "    else :\n",
    "        print(\"The entered number is odd\")\n",
    "else :\n",
    "    print(\"Enter a value of valid datatype\")\n",
    "    "
   ]
  },
  {
   "cell_type": "code",
   "execution_count": null,
   "id": "4c4c0335",
   "metadata": {},
   "outputs": [],
   "source": [
    "#3. Program to check leap year"
   ]
  },
  {
   "cell_type": "code",
   "execution_count": 6,
   "id": "c9fa6e22",
   "metadata": {},
   "outputs": [
    {
     "name": "stdout",
     "output_type": "stream",
     "text": [
      "Enter the year:2000\n",
      "The year is a leap year\n"
     ]
    }
   ],
   "source": [
    "a = int(input(\"Enter the year:\"))\n",
    "if a%4 == 0 :\n",
    "    if a%100 == 0 :\n",
    "        if a%400 == 0:\n",
    "            print(\"The year is a leap year\")\n",
    "    else :\n",
    "        print(\"the year is no a leap year\")"
   ]
  },
  {
   "cell_type": "code",
   "execution_count": 7,
   "id": "44f018e1",
   "metadata": {},
   "outputs": [],
   "source": [
    "#4 program to check prime number"
   ]
  },
  {
   "cell_type": "code",
   "execution_count": 1,
   "id": "19af075f",
   "metadata": {},
   "outputs": [
    {
     "name": "stdout",
     "output_type": "stream",
     "text": [
      "Enter a number:17\n",
      "The number is prime number\n"
     ]
    }
   ],
   "source": [
    "a = int(input(\"Enter a number:\"))\n",
    "count = 0\n",
    "if a > 1 :\n",
    "    for i in range(1,a):\n",
    "        if a%i == 0:\n",
    "            count += 1\n",
    "    if count == 1:\n",
    "        print(\"The number is prime number\")\n",
    "    else :\n",
    "        print(\"The prime is not a prime number\")\n",
    "else :\n",
    "    print(\"The number is not a prime number\")\n",
    "    "
   ]
  },
  {
   "cell_type": "code",
   "execution_count": null,
   "id": "6565454d",
   "metadata": {},
   "outputs": [],
   "source": [
    "#5. to print all prime numbers in range 1 -10000"
   ]
  },
  {
   "cell_type": "code",
   "execution_count": 6,
   "id": "6c8113ef",
   "metadata": {},
   "outputs": [
    {
     "name": "stdout",
     "output_type": "stream",
     "text": [
      "[2, 3, 5, 7, 11, 13, 17, 19, 23, 29, 31, 37, 41, 43, 47, 53, 59, 61, 67, 71, 73, 79, 83, 89, 97]\n"
     ]
    }
   ],
   "source": [
    "l= []\n",
    "for i in range (1,100):\n",
    "    count = 0\n",
    "    for j in range (1,i):\n",
    "        if i % j == 0 :\n",
    "            count += 1\n",
    "    if count == 1:\n",
    "        l.append(i)\n",
    "print(l)"
   ]
  },
  {
   "cell_type": "code",
   "execution_count": null,
   "id": "e5e97ac7",
   "metadata": {},
   "outputs": [],
   "source": []
  }
 ],
 "metadata": {
  "kernelspec": {
   "display_name": "Python 3 (ipykernel)",
   "language": "python",
   "name": "python3"
  },
  "language_info": {
   "codemirror_mode": {
    "name": "ipython",
    "version": 3
   },
   "file_extension": ".py",
   "mimetype": "text/x-python",
   "name": "python",
   "nbconvert_exporter": "python",
   "pygments_lexer": "ipython3",
   "version": "3.9.7"
  }
 },
 "nbformat": 4,
 "nbformat_minor": 5
}
