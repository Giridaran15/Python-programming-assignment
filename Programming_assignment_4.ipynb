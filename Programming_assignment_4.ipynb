{
 "cells": [
  {
   "cell_type": "code",
   "execution_count": 1,
   "id": "9c6b77c5",
   "metadata": {},
   "outputs": [],
   "source": [
    "# Program to return factorial of a number"
   ]
  },
  {
   "cell_type": "code",
   "execution_count": 3,
   "id": "2c80bcbc",
   "metadata": {},
   "outputs": [
    {
     "name": "stdout",
     "output_type": "stream",
     "text": [
      "Enter the number for which factorial is required:5\n",
      "The factorial is : 120\n"
     ]
    }
   ],
   "source": [
    "c = 1\n",
    "a = int(input(\"Enter the number for which factorial is required:\"))\n",
    "if a == 0:\n",
    "    print(\"The factorial is 1\")\n",
    "else :\n",
    "    for i in range(1, a+1):\n",
    "        c = c*i\n",
    "    print(\"The factorial is :\", c)"
   ]
  },
  {
   "cell_type": "code",
   "execution_count": 4,
   "id": "745562b7",
   "metadata": {},
   "outputs": [],
   "source": [
    "# Program to display multiplication table"
   ]
  },
  {
   "cell_type": "code",
   "execution_count": 22,
   "id": "91468a6b",
   "metadata": {},
   "outputs": [
    {
     "name": "stdout",
     "output_type": "stream",
     "text": [
      "Enter the number to display the multiplication table:6\n",
      "Enter the  length of table in nos :15\n",
      "6 x 1 = 6\n",
      "6 x 2 = 12\n",
      "6 x 3 = 18\n",
      "6 x 4 = 24\n",
      "6 x 5 = 30\n",
      "6 x 6 = 36\n",
      "6 x 7 = 42\n",
      "6 x 8 = 48\n",
      "6 x 9 = 54\n",
      "6 x 10 = 60\n",
      "6 x 11 = 66\n",
      "6 x 12 = 72\n",
      "6 x 13 = 78\n",
      "6 x 14 = 84\n",
      "6 x 15 = 90\n"
     ]
    }
   ],
   "source": [
    "a = int(input(\"Enter the number to display the multiplication table:\"))\n",
    "b = int(input(\"Enter the  length of table in nos :\")) \n",
    "if a == 0:\n",
    "    print(\"enter a number other than zero\")\n",
    "else:\n",
    "    for i in range(1,b+1):\n",
    "        c = a*i\n",
    "        print(str(a),\"x\",str(i),\"=\",c)\n",
    "        c = 0"
   ]
  },
  {
   "cell_type": "code",
   "execution_count": 23,
   "id": "0b428c9d",
   "metadata": {},
   "outputs": [],
   "source": [
    "# program to display fibonacci sequence"
   ]
  },
  {
   "cell_type": "code",
   "execution_count": 1,
   "id": "4d708fe6",
   "metadata": {},
   "outputs": [
    {
     "name": "stdout",
     "output_type": "stream",
     "text": [
      "enter the length of fibonacci:5\n",
      "1\n",
      "1\n",
      "2\n",
      "3\n",
      "5\n"
     ]
    }
   ],
   "source": [
    "x = int(input(\"enter the length of fibonacci:\"))\n",
    "while x != 0:\n",
    "    a = 1\n",
    "    b = 1\n",
    "    for i in range(x):\n",
    "        print(a)\n",
    "        c = a + b\n",
    "        a = b\n",
    "        b = c\n",
    "    x = 0"
   ]
  },
  {
   "cell_type": "code",
   "execution_count": 2,
   "id": "dd07ff22",
   "metadata": {},
   "outputs": [],
   "source": [
    "# program to check if armstrong number"
   ]
  },
  {
   "cell_type": "code",
   "execution_count": 17,
   "id": "990d50b3",
   "metadata": {},
   "outputs": [
    {
     "name": "stdout",
     "output_type": "stream",
     "text": [
      "enter a number:407\n",
      "The entered num is an armstrong number\n"
     ]
    }
   ],
   "source": [
    "a = int(input(\"enter a number:\"))\n",
    "c = a\n",
    "b = 0\n",
    "power = len(str(a))\n",
    "while a != 0 :\n",
    "    num = a%10\n",
    "    b += num**power\n",
    "    a = int(a/10)\n",
    "if c == b:\n",
    "    print(\"The entered num is an armstrong number\")\n",
    "else:\n",
    "    print(\"OOPS! It's not\")"
   ]
  },
  {
   "cell_type": "code",
   "execution_count": 1,
   "id": "d709e7a1",
   "metadata": {},
   "outputs": [],
   "source": [
    "# program to find armstrong number in a given range"
   ]
  },
  {
   "cell_type": "code",
   "execution_count": 12,
   "id": "c519b820",
   "metadata": {},
   "outputs": [
    {
     "name": "stdout",
     "output_type": "stream",
     "text": [
      "Enter the upper  limit of the range402\n",
      "Enter the lower  limit of the range408\n",
      "The number 407 is an armstrong number\n"
     ]
    }
   ],
   "source": [
    "u = int(input(\"Enter the upper  limit of the range\"))\n",
    "l = int(input(\"Enter the lower  limit of the range\"))\n",
    "for a in range(u,l+1):\n",
    "    c = a\n",
    "    b = 0\n",
    "    power = len(str(a))\n",
    "    while a != 0 :\n",
    "        num = a%10\n",
    "        b += num**power\n",
    "        a = int(a/10)\n",
    "    if c == b:\n",
    "        print(\"The number {num} is an armstrong number\".format(num = c))\n",
    "    else:\n",
    "        continue\n"
   ]
  },
  {
   "cell_type": "code",
   "execution_count": 13,
   "id": "5ff78278",
   "metadata": {},
   "outputs": [],
   "source": [
    "# program to return sum of natural numbers"
   ]
  },
  {
   "cell_type": "code",
   "execution_count": 16,
   "id": "c8366714",
   "metadata": {},
   "outputs": [
    {
     "name": "stdout",
     "output_type": "stream",
     "text": [
      "enter the number :26\n",
      "351.0\n"
     ]
    }
   ],
   "source": [
    "a = int(input(\"enter the number :\"))\n",
    "sum = (a*(a+1))/2\n",
    "print(sum) "
   ]
  },
  {
   "cell_type": "code",
   "execution_count": null,
   "id": "47d5d98f",
   "metadata": {},
   "outputs": [],
   "source": []
  }
 ],
 "metadata": {
  "kernelspec": {
   "display_name": "Python 3 (ipykernel)",
   "language": "python",
   "name": "python3"
  },
  "language_info": {
   "codemirror_mode": {
    "name": "ipython",
    "version": 3
   },
   "file_extension": ".py",
   "mimetype": "text/x-python",
   "name": "python",
   "nbconvert_exporter": "python",
   "pygments_lexer": "ipython3",
   "version": "3.9.7"
  }
 },
 "nbformat": 4,
 "nbformat_minor": 5
}
