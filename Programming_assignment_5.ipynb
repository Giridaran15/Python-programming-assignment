{
 "cells": [
  {
   "cell_type": "code",
   "execution_count": 1,
   "id": "ef01aa72",
   "metadata": {},
   "outputs": [],
   "source": [
    "# 1. program to display LCM of two num"
   ]
  },
  {
   "cell_type": "code",
   "execution_count": 2,
   "id": "99b4eb39",
   "metadata": {},
   "outputs": [],
   "source": [
    "# using the formula num1 * num2 = lcm * Gcd"
   ]
  },
  {
   "cell_type": "code",
   "execution_count": 6,
   "id": "802f950b",
   "metadata": {},
   "outputs": [],
   "source": [
    "def find_lcm(num1 , num2):\n",
    "    if num1 > num2 :\n",
    "        x = num1\n",
    "        y = num2\n",
    "    else :\n",
    "        x = num2\n",
    "        y = num1\n",
    "    lcm = (x*y)/(find_gcd(x,y))\n",
    "    return(lcm)\n",
    "\n",
    "def find_gcd (x ,y):\n",
    "    while(y):\n",
    "        x , y = y , x%y\n",
    "    return(x)\n"
   ]
  },
  {
   "cell_type": "code",
   "execution_count": 14,
   "id": "45da8a56",
   "metadata": {},
   "outputs": [
    {
     "data": {
      "text/plain": [
       "144.0"
      ]
     },
     "execution_count": 14,
     "metadata": {},
     "output_type": "execute_result"
    }
   ],
   "source": [
    "find_lcm(48,36)"
   ]
  },
  {
   "cell_type": "code",
   "execution_count": 12,
   "id": "a1d7ed14",
   "metadata": {},
   "outputs": [],
   "source": [
    "# 2. program to find GCD"
   ]
  },
  {
   "cell_type": "code",
   "execution_count": 9,
   "id": "f7dd8540",
   "metadata": {},
   "outputs": [],
   "source": [
    "def find_gcd (x ,y):\n",
    "    while(y):\n",
    "        x , y = y , x%y\n",
    "    return(x)"
   ]
  },
  {
   "cell_type": "code",
   "execution_count": 15,
   "id": "d068782c",
   "metadata": {},
   "outputs": [
    {
     "data": {
      "text/plain": [
       "12"
      ]
     },
     "execution_count": 15,
     "metadata": {},
     "output_type": "execute_result"
    }
   ],
   "source": [
    "find_gcd(48,36)"
   ]
  },
  {
   "cell_type": "code",
   "execution_count": 16,
   "id": "9eafb86f",
   "metadata": {},
   "outputs": [],
   "source": [
    "#3. Program to convert decimal to binary , octal and hexadecimal"
   ]
  },
  {
   "cell_type": "code",
   "execution_count": 20,
   "id": "a62ac19e",
   "metadata": {},
   "outputs": [],
   "source": [
    "def convert_Binary(n):\n",
    "   if n > 1:\n",
    "       convert_Binary(n//2)\n",
    "   print(n % 2,end = '')\n",
    "def convert_octal(n):\n",
    "   if n > 1:\n",
    "       convert_octal(n//8)\n",
    "   print(n % 8,end = '')\n",
    "def convert_hexa(n):\n",
    "   if n > 1:\n",
    "       convert_hexa(n//16)\n",
    "   print(n % 16,end = '')\n"
   ]
  },
  {
   "cell_type": "code",
   "execution_count": 23,
   "id": "996a6b49",
   "metadata": {},
   "outputs": [
    {
     "name": "stdout",
     "output_type": "stream",
     "text": [
      "1001001"
     ]
    }
   ],
   "source": [
    "convert_Binary(73)"
   ]
  },
  {
   "cell_type": "code",
   "execution_count": 24,
   "id": "d9f1c177",
   "metadata": {},
   "outputs": [
    {
     "name": "stdout",
     "output_type": "stream",
     "text": [
      "076"
     ]
    }
   ],
   "source": [
    "convert_octal(62)"
   ]
  },
  {
   "cell_type": "code",
   "execution_count": 25,
   "id": "ac901e3c",
   "metadata": {},
   "outputs": [
    {
     "name": "stdout",
     "output_type": "stream",
     "text": [
      "049"
     ]
    }
   ],
   "source": [
    "convert_hexa(73)"
   ]
  },
  {
   "cell_type": "code",
   "execution_count": 26,
   "id": "bd8d2039",
   "metadata": {},
   "outputs": [],
   "source": [
    "#4. program to get ascii value"
   ]
  },
  {
   "cell_type": "code",
   "execution_count": 45,
   "id": "18cb63dc",
   "metadata": {},
   "outputs": [
    {
     "name": "stdout",
     "output_type": "stream",
     "text": [
      "enter the character#\n",
      "Ascii value is 35\n"
     ]
    }
   ],
   "source": [
    "a = input(\"enter the character\")\n",
    "if len(a) > 1:\n",
    "    print(\"Enter a single character\")\n",
    "else:\n",
    "    print(\"Ascii value is\", ord(a))\n"
   ]
  },
  {
   "cell_type": "code",
   "execution_count": 2,
   "id": "7f527cd0",
   "metadata": {},
   "outputs": [
    {
     "name": "stdout",
     "output_type": "stream",
     "text": [
      "Select a Arithmetic Operation:         \n",
      "1.Addition(+)        \n",
      "2.Division(-)        \n",
      "3.Multiplication(*)        \n",
      "4.Division(/)        \n",
      "5.Stop(0)\n",
      "\n",
      "Enter a arithmetic operation -> \n",
      "Please enter a valid operator\n",
      "Enter a arithmetic operation -> 4\n",
      "Please enter a valid operator\n",
      "Enter a arithmetic operation -> 5\n",
      "Please enter a valid operator\n",
      "Enter a arithmetic operation -> *\n",
      "\n",
      "Enter 1st Number: 4\n",
      "Enter 2nd Number: 5\n",
      "4*5=20\n",
      "\n",
      "Enter a arithmetic operation -> 0\n",
      "Program Stopped successfully\n"
     ]
    }
   ],
   "source": [
    "\n",
    "import operator\n",
    "\n",
    "compute = { \"+\": operator.add, \"-\": operator.sub, \"*\":operator.mul, \"/\":operator.truediv } \n",
    "\n",
    "print('Select a Arithmetic Operation: \\\n",
    "        \\n1.Addition(+)\\\n",
    "        \\n2.Division(-)\\\n",
    "        \\n3.Multiplication(*)\\\n",
    "        \\n4.Division(/)\\\n",
    "        \\n5.Stop(0)\\n')\n",
    "   \n",
    "\n",
    "while True:\n",
    "    operator = input('Enter a arithmetic operation -> ')\n",
    "    if operator == '0':\n",
    "        print(\"Program Stopped successfully\")\n",
    "        break\n",
    "    elif operator not in ['+','-','*','/']:\n",
    "        print(\"Please enter a valid operator\")\n",
    "    else:\n",
    "        num_1 = int(input('\\nEnter 1st Number: '))\n",
    "        num_2 = int(input('Enter 2nd Number: '))\n",
    "        print(f'{num_1}{operator}{num_2}={compute[operator](num_1,num_2)}\\n')"
   ]
  }
 ],
 "metadata": {
  "kernelspec": {
   "display_name": "Python 3 (ipykernel)",
   "language": "python",
   "name": "python3"
  },
  "language_info": {
   "codemirror_mode": {
    "name": "ipython",
    "version": 3
   },
   "file_extension": ".py",
   "mimetype": "text/x-python",
   "name": "python",
   "nbconvert_exporter": "python",
   "pygments_lexer": "ipython3",
   "version": "3.9.7"
  }
 },
 "nbformat": 4,
 "nbformat_minor": 5
}
