{
 "cells": [
  {
   "cell_type": "code",
   "execution_count": 1,
   "id": "a74ece38",
   "metadata": {},
   "outputs": [],
   "source": [
    "#1 . program to display fibonacci using recurssion"
   ]
  },
  {
   "cell_type": "code",
   "execution_count": 5,
   "id": "6d58b168",
   "metadata": {},
   "outputs": [
    {
     "name": "stdout",
     "output_type": "stream",
     "text": [
      "enter the length of seq:5\n",
      "0\n",
      "1\n",
      "1\n",
      "2\n",
      "3\n"
     ]
    }
   ],
   "source": [
    "\n",
    "def fib(n):\n",
    "    if n <= 1:\n",
    "        return n\n",
    "    else:\n",
    "        return(fib(n-1)+fib(n-2))\n",
    "a = int(input(\"enter the length of seq:\"))\n",
    "if a <= 0 :\n",
    "    print(\"Enter a valid positive num\")\n",
    "else:\n",
    "    for i in range(a):\n",
    "        print(fib(i))"
   ]
  },
  {
   "cell_type": "code",
   "execution_count": 6,
   "id": "8e3d6706",
   "metadata": {},
   "outputs": [],
   "source": [
    "#2. program to display factorial of a number"
   ]
  },
  {
   "cell_type": "code",
   "execution_count": 7,
   "id": "021e8aaf",
   "metadata": {},
   "outputs": [],
   "source": [
    "def fac(n):\n",
    "    if n == 1:\n",
    "        return n\n",
    "    else:\n",
    "        return(n*fac(n-1))"
   ]
  },
  {
   "cell_type": "code",
   "execution_count": 8,
   "id": "4c81c4ea",
   "metadata": {},
   "outputs": [
    {
     "data": {
      "text/plain": [
       "120"
      ]
     },
     "execution_count": 8,
     "metadata": {},
     "output_type": "execute_result"
    }
   ],
   "source": [
    "fac(5)"
   ]
  },
  {
   "cell_type": "code",
   "execution_count": 9,
   "id": "2c7a0645",
   "metadata": {},
   "outputs": [],
   "source": [
    "#3. program to calculate body mass  index"
   ]
  },
  {
   "cell_type": "code",
   "execution_count": 22,
   "id": "25564f3b",
   "metadata": {},
   "outputs": [
    {
     "name": "stdout",
     "output_type": "stream",
     "text": [
      "Enter weight in kgs68\n",
      "Enter height in centimeters159\n",
      "Your BMI is : 26.9\n",
      "you are overweight\n"
     ]
    }
   ],
   "source": [
    "w = float(input(\"Enter weight in kgs\"))\n",
    "h = float(input(\"Enter height in centimeters\"))\n",
    "h = h/100\n",
    "bmi = w/(h**2)\n",
    "print(\"Your BMI is :\",round(bmi,2))\n",
    "if (0<bmi) and (bmi<18.5):\n",
    "    print(\"you are underweight\")\n",
    "elif (18.5<bmi) and (bmi<24.9):\n",
    "    print(\"you are healthyweight\")\n",
    "elif (25<bmi) and (bmi<29.9):\n",
    "    print(\"you are overweight\")\n",
    "elif (bmi>30):\n",
    "    print(\"you are obese\")"
   ]
  },
  {
   "cell_type": "code",
   "execution_count": 23,
   "id": "a4dabfa1",
   "metadata": {},
   "outputs": [],
   "source": [
    "#4. program to calc. natural log of a num"
   ]
  },
  {
   "cell_type": "code",
   "execution_count": 7,
   "id": "31d3e56f",
   "metadata": {},
   "outputs": [
    {
     "name": "stdout",
     "output_type": "stream",
     "text": [
      "Enter a number25.6\n",
      "3.242592351485517\n"
     ]
    }
   ],
   "source": [
    "import math\n",
    "a = float(input(\"Enter a number\"))\n",
    "b = math.log(a)\n",
    "print(b)"
   ]
  },
  {
   "cell_type": "code",
   "execution_count": 8,
   "id": "be220cee",
   "metadata": {},
   "outputs": [],
   "source": [
    "#5. Program to find cube sum of n natural num"
   ]
  },
  {
   "cell_type": "code",
   "execution_count": 1,
   "id": "ebc1740e",
   "metadata": {},
   "outputs": [
    {
     "name": "stdout",
     "output_type": "stream",
     "text": [
      "Enter a number: 5\n",
      "225.0\n"
     ]
    }
   ],
   "source": [
    "a = int(input(\"Enter a number: \"))\n",
    "b = ((a*(a+1))/2)**2\n",
    "print(b)"
   ]
  },
  {
   "cell_type": "code",
   "execution_count": null,
   "id": "314c0a14",
   "metadata": {},
   "outputs": [],
   "source": []
  }
 ],
 "metadata": {
  "kernelspec": {
   "display_name": "Python 3 (ipykernel)",
   "language": "python",
   "name": "python3"
  },
  "language_info": {
   "codemirror_mode": {
    "name": "ipython",
    "version": 3
   },
   "file_extension": ".py",
   "mimetype": "text/x-python",
   "name": "python",
   "nbconvert_exporter": "python",
   "pygments_lexer": "ipython3",
   "version": "3.9.7"
  }
 },
 "nbformat": 4,
 "nbformat_minor": 5
}
